{
 "cells": [
  {
   "cell_type": "markdown",
   "id": "0e63e191",
   "metadata": {},
   "source": "# Schreier-Sims for Rubik's Cubes"
  },
  {
   "cell_type": "code",
   "id": "e736d56b",
   "metadata": {
    "ExecuteTime": {
     "end_time": "2025-06-29T18:51:17.128381Z",
     "start_time": "2025-06-29T18:46:19.529688Z"
    }
   },
   "source": [
    "import numpy as np, time, random\n",
    "from sympy.combinatorics import Permutation\n",
    "from functions import enumerate, human_order, solved_states, compute_schreiers_vector, generating_set, sims_filter\n",
    "\n",
    "# choose size of Rubik's cube\n",
    "n = 4\n",
    "\n",
    "# N: order of the symmetric group (number of enumerated stickers)\n",
    "if n % 2 == 0:\n",
    "    N = 6 * n**2\n",
    "else:\n",
    "    N = 6 * n**2 - 6\n",
    "\n",
    "# set of moves that generate the Rubik's cube\n",
    "generators = enumerate(n, N)\n",
    "\n",
    "identity_order = range(N)\n",
    "random_order = random.sample(range(N), N)\n",
    "human_order = human_order(n)\n",
    "# choose solving order\n",
    "solving_order = random_order\n",
    "\n",
    "# list of group orders of the stabilizer groups\n",
    "orders_list = []\n",
    "\n",
    "# list of generating sets of the stabilizer groups\n",
    "generators_list = []\n",
    "length_generators_list_before_sims_filter = []\n",
    "length_generators_list = []\n",
    "\n",
    "# list of Schreiers vectors for the stabilizer groups\n",
    "schreiers_vectors_list = []\n",
    "\n",
    "# the algorithm\n",
    "i = 0\n",
    "\n",
    "length_generators_list_before_sims_filter.append(len(generators))\n",
    "\n",
    "temp_generators = sims_filter(generators, N)\n",
    "length_generators_list.append(len(temp_generators))\n",
    "generators_list.append(temp_generators)\n",
    "\n",
    "start_time = time.time()\n",
    "\n",
    "while len(temp_generators) > 0:\n",
    "    k = solving_order[i]\n",
    "\n",
    "    schreiers_vector = compute_schreiers_vector(temp_generators, N, k)\n",
    "    schreiers_vectors_list.append(schreiers_vector)\n",
    "\n",
    "    schreiers_vector_non_zero = [element for element in schreiers_vector if element is not None]\n",
    "\n",
    "    order_orbit = len(schreiers_vector_non_zero)\n",
    "    orders_list.append(order_orbit)\n",
    "\n",
    "    new_generators = generating_set(temp_generators, schreiers_vector, schreiers_vector_non_zero, k)\n",
    "    length_generators_list_before_sims_filter.append(len(new_generators))\n",
    "    # print(f\"Length of new generators before Sims filter: {len(new_generators)}\")\n",
    "\n",
    "    temp_generators = sims_filter(new_generators, N)\n",
    "    length_generators_list.append(len(temp_generators))\n",
    "    generators_list.append(temp_generators)\n",
    "    # print(f\"Length of new generators after Sims filter: {len(temp_generators)}\")\n",
    "\n",
    "    i += 1\n",
    "\n",
    "    elapsed_time = time.time()-start_time\n",
    "    print(f\"Time after iteration {i}: {elapsed_time:.2f} seconds\")\n",
    "\n",
    "\n",
    "# compute visually solved states (useful for membership testing)\n",
    "solved_states = solved_states(n, N)"
   ],
   "outputs": [
    {
     "name": "stdout",
     "output_type": "stream",
     "text": [
      "Time after iteration 1: 0.03 seconds\n",
      "Time after iteration 2: 8.39 seconds\n",
      "Time after iteration 3: 35.94 seconds\n",
      "Time after iteration 4: 59.45 seconds\n",
      "Time after iteration 5: 85.12 seconds\n",
      "Time after iteration 6: 108.26 seconds\n",
      "Time after iteration 7: 129.56 seconds\n",
      "Time after iteration 8: 147.32 seconds\n",
      "Time after iteration 9: 162.55 seconds\n",
      "Time after iteration 10: 178.36 seconds\n",
      "Time after iteration 11: 191.44 seconds\n",
      "Time after iteration 12: 204.45 seconds\n",
      "Time after iteration 13: 214.66 seconds\n",
      "Time after iteration 14: 225.00 seconds\n",
      "Time after iteration 15: 232.13 seconds\n",
      "Time after iteration 16: 237.39 seconds\n",
      "Time after iteration 17: 244.73 seconds\n",
      "Time after iteration 18: 250.99 seconds\n",
      "Time after iteration 19: 256.32 seconds\n",
      "Time after iteration 20: 256.35 seconds\n",
      "Time after iteration 21: 256.37 seconds\n",
      "Time after iteration 22: 261.03 seconds\n",
      "Time after iteration 23: 261.06 seconds\n",
      "Time after iteration 24: 265.01 seconds\n",
      "Time after iteration 25: 265.03 seconds\n",
      "Time after iteration 26: 270.61 seconds\n",
      "Time after iteration 27: 270.64 seconds\n",
      "Time after iteration 28: 275.44 seconds\n",
      "Time after iteration 29: 275.46 seconds\n",
      "Time after iteration 30: 278.13 seconds\n",
      "Time after iteration 31: 278.15 seconds\n",
      "Time after iteration 32: 281.60 seconds\n",
      "Time after iteration 33: 283.73 seconds\n",
      "Time after iteration 34: 283.74 seconds\n",
      "Time after iteration 35: 283.76 seconds\n",
      "Time after iteration 36: 285.48 seconds\n",
      "Time after iteration 37: 285.49 seconds\n",
      "Time after iteration 38: 288.16 seconds\n",
      "Time after iteration 39: 290.10 seconds\n",
      "Time after iteration 40: 291.11 seconds\n",
      "Time after iteration 41: 292.65 seconds\n",
      "Time after iteration 42: 293.83 seconds\n",
      "Time after iteration 43: 293.84 seconds\n",
      "Time after iteration 44: 294.39 seconds\n",
      "Time after iteration 45: 294.83 seconds\n",
      "Time after iteration 46: 295.16 seconds\n",
      "Time after iteration 47: 295.84 seconds\n",
      "Time after iteration 48: 296.28 seconds\n",
      "Time after iteration 49: 296.29 seconds\n",
      "Time after iteration 50: 296.30 seconds\n",
      "Time after iteration 51: 296.69 seconds\n",
      "Time after iteration 52: 296.70 seconds\n",
      "Time after iteration 53: 296.71 seconds\n",
      "Time after iteration 54: 296.71 seconds\n",
      "Time after iteration 55: 296.71 seconds\n",
      "Time after iteration 56: 296.72 seconds\n",
      "Time after iteration 57: 296.99 seconds\n",
      "Time after iteration 58: 297.17 seconds\n",
      "Time after iteration 59: 297.25 seconds\n",
      "Time after iteration 60: 297.26 seconds\n",
      "Time after iteration 61: 297.26 seconds\n",
      "Time after iteration 62: 297.26 seconds\n",
      "Time after iteration 63: 297.27 seconds\n",
      "Time after iteration 64: 297.40 seconds\n",
      "Time after iteration 65: 297.47 seconds\n",
      "Time after iteration 66: 297.48 seconds\n",
      "Time after iteration 67: 297.48 seconds\n",
      "Time after iteration 68: 297.52 seconds\n",
      "Time after iteration 69: 297.55 seconds\n",
      "Time after iteration 70: 297.55 seconds\n",
      "Time after iteration 71: 297.56 seconds\n",
      "Time after iteration 72: 297.56 seconds\n",
      "Time after iteration 73: 297.56 seconds\n",
      "Time after iteration 74: 297.57 seconds\n",
      "Time after iteration 75: 297.57 seconds\n",
      "Time after iteration 76: 297.58 seconds\n",
      "Time after iteration 77: 297.58 seconds\n",
      "Time after iteration 78: 297.58 seconds\n",
      "Time after iteration 79: 297.58 seconds\n",
      "Time after iteration 80: 297.58 seconds\n",
      "Time after iteration 81: 297.58 seconds\n",
      "Time after iteration 82: 297.58 seconds\n",
      "Time after iteration 83: 297.58 seconds\n"
     ]
    }
   ],
   "execution_count": 6
  },
  {
   "cell_type": "markdown",
   "id": "b391e86f",
   "metadata": {},
   "source": [
    "## Order of Rubik's cube group"
   ]
  },
  {
   "cell_type": "code",
   "id": "3285b08f",
   "metadata": {
    "ExecuteTime": {
     "end_time": "2025-06-29T18:51:41.549642Z",
     "start_time": "2025-06-29T18:51:41.544268Z"
    }
   },
   "source": [
    "orders_list = np.array(orders_list, dtype=object)\n",
    "print(np.prod(orders_list))"
   ],
   "outputs": [
    {
     "name": "stdout",
     "output_type": "stream",
     "text": [
      "16972688908618238933770849245964147960401887232000000000\n"
     ]
    }
   ],
   "execution_count": 7
  },
  {
   "cell_type": "markdown",
   "id": "5f4f1222",
   "metadata": {},
   "source": [
    "## Membership testing"
   ]
  },
  {
   "cell_type": "code",
   "id": "b692a1c6",
   "metadata": {
    "ExecuteTime": {
     "end_time": "2025-06-29T18:51:47.493082Z",
     "start_time": "2025-06-29T18:51:47.481833Z"
    }
   },
   "source": [
    "# choose the element you want to perform the check on\n",
    "\n",
    "# some examples of moves:\n",
    "\n",
    "# move = Permutation(N-1)(0,10,20)(6,12,40) # double corner twist on 3x3\n",
    "move = Permutation(N-1)(51,63)(0,40,20)(32,52,72) # double corner twist and enter swap on 4x4\n",
    "\n",
    "# the algorithm\n",
    "\n",
    "contained = False\n",
    "\n",
    "for solved_state in solved_states:\n",
    "    g = move * solved_state\n",
    "\n",
    "    i = 0\n",
    "    while i < len(schreiers_vectors_list):\n",
    "        k = solving_order[i]\n",
    "\n",
    "        orbit_set = schreiers_vectors_list[i]\n",
    "        h = g(k)\n",
    "        u = orbit_set[h]\n",
    "        if u is None:\n",
    "            break\n",
    "        else:\n",
    "            g = g * u**-1\n",
    "        \n",
    "        i += 1\n",
    "\n",
    "    if g == Permutation(N-1):\n",
    "        contained = True\n",
    "        break\n",
    "\n",
    "print(contained)"
   ],
   "outputs": [
    {
     "name": "stdout",
     "output_type": "stream",
     "text": [
      "True\n"
     ]
    }
   ],
   "execution_count": 8
  }
 ],
 "metadata": {
  "kernelspec": {
   "display_name": "Python 3",
   "language": "python",
   "name": "python3"
  },
  "language_info": {
   "codemirror_mode": {
    "name": "ipython",
    "version": 3
   },
   "file_extension": ".py",
   "mimetype": "text/x-python",
   "name": "python",
   "nbconvert_exporter": "python",
   "pygments_lexer": "ipython3",
   "version": "3.13.3"
  }
 },
 "nbformat": 4,
 "nbformat_minor": 5
}
