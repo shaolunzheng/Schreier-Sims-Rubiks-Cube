{
 "cells": [
  {
   "cell_type": "markdown",
   "id": "0e63e191",
   "metadata": {},
   "source": [
    "# Schreier-Sims for Rubik's Cubes"
   ]
  },
  {
   "cell_type": "code",
   "execution_count": 7,
   "id": "e736d56b",
   "metadata": {},
   "outputs": [],
   "source": [
    "import numpy as np, time, random\n",
    "from sympy.combinatorics import Permutation\n",
    "from functions import enumerate, compute_schreiers_vector, generating_set, sims_filter\n",
    "\n",
    "n = 4 # choose side length\n",
    "\n",
    "if n % 2 == 0:\n",
    "    N = 6 * n * n\n",
    "else :\n",
    "    N = 6 * n * n - 6\n",
    "\n",
    "rubiks = enumerate(n, N) # moves that generate the Rubik's cube\n",
    "generators = rubiks\n",
    "\n",
    "identity_order = range(N)\n",
    "random_order = random.sample(range(N), N)\n",
    "human_order_3x3 = [1,3,5,7,0,2,4,6,9,13,35,39,25,27,29,31,24,26,28,30,\n",
    "               8,10,11,12,14,15,16,17,18,19,20,21,22,23,32,33,34,36,37,38,40,41,42,43,44,45,46,47]\n",
    "human_order_4x4 = [3,7,11,15,51,55,59,63,19,23,27,31,19,23,27,31,35,39,43,47,67,71,75,79,83,87,91,95,\n",
    "                   1,6,5,10,9,14,13,2,0,4,8,12,17,22,25,30,66,77,69,74,49,54,53,58,57,62,61,50,48,52,56,60,\n",
    "                   20,21,26,24,36,37,42,40,64,65,70,68,80,81,86,84,16,18,29,28,32,34,45,44,72,73,78,76,88,89,94,92,33,38,41,46,82,93,85,90]\n",
    "solving_order = human_order_4x4"
   ]
  },
  {
   "cell_type": "markdown",
   "id": "b703710e",
   "metadata": {},
   "source": [
    "## Schreier-Sims and order of Rubik's cube group"
   ]
  },
  {
   "cell_type": "code",
   "execution_count": 8,
   "id": "ed886a07",
   "metadata": {},
   "outputs": [
    {
     "name": "stdout",
     "output_type": "stream",
     "text": [
      "Time after iteration 1: 0.06 seconds\n",
      "Time after iteration 2: 10.28 seconds\n",
      "Time after iteration 3: 54.08 seconds\n",
      "Time after iteration 4: 87.32 seconds\n",
      "Time after iteration 5: 114.46 seconds\n",
      "Time after iteration 6: 138.56 seconds\n",
      "Time after iteration 7: 162.68 seconds\n",
      "Time after iteration 8: 180.74 seconds\n",
      "Time after iteration 9: 195.92 seconds\n",
      "Time after iteration 10: 209.32 seconds\n",
      "Time after iteration 11: 221.32 seconds\n",
      "Time after iteration 12: 231.78 seconds\n",
      "Time after iteration 13: 231.83 seconds\n",
      "Time after iteration 14: 231.86 seconds\n",
      "Time after iteration 15: 231.89 seconds\n",
      "Time after iteration 16: 231.92 seconds\n",
      "Time after iteration 17: 240.50 seconds\n",
      "Time after iteration 18: 248.18 seconds\n",
      "Time after iteration 19: 254.93 seconds\n",
      "Time after iteration 20: 260.47 seconds\n",
      "Time after iteration 21: 265.11 seconds\n",
      "Time after iteration 22: 268.94 seconds\n",
      "Time after iteration 23: 271.91 seconds\n",
      "Time after iteration 24: 274.12 seconds\n",
      "Time after iteration 25: 275.71 seconds\n",
      "Time after iteration 26: 276.70 seconds\n",
      "Time after iteration 27: 277.23 seconds\n",
      "Time after iteration 28: 277.25 seconds\n",
      "Time after iteration 29: 288.20 seconds\n",
      "Time after iteration 30: 297.71 seconds\n",
      "Time after iteration 31: 306.04 seconds\n",
      "Time after iteration 32: 313.22 seconds\n",
      "Time after iteration 33: 319.37 seconds\n",
      "Time after iteration 34: 324.17 seconds\n",
      "Time after iteration 35: 328.64 seconds\n",
      "Time after iteration 36: 332.27 seconds\n",
      "Time after iteration 37: 337.14 seconds\n",
      "Time after iteration 38: 341.30 seconds\n",
      "Time after iteration 39: 344.24 seconds\n",
      "Time after iteration 40: 346.73 seconds\n",
      "Time after iteration 41: 349.17 seconds\n",
      "Time after iteration 42: 351.07 seconds\n",
      "Time after iteration 43: 352.35 seconds\n",
      "Time after iteration 44: 353.39 seconds\n",
      "Time after iteration 45: 354.00 seconds\n",
      "Time after iteration 46: 354.45 seconds\n",
      "Time after iteration 47: 354.77 seconds\n",
      "Time after iteration 48: 354.97 seconds\n",
      "Time after iteration 49: 355.12 seconds\n",
      "Time after iteration 50: 355.22 seconds\n",
      "Time after iteration 51: 355.28 seconds\n",
      "Time after iteration 52: 355.31 seconds\n",
      "Time after iteration 53: 355.33 seconds\n",
      "Time after iteration 54: 355.34 seconds\n",
      "Time after iteration 55: 355.35 seconds\n",
      "Time after iteration 56: 355.35 seconds\n",
      "Time after iteration 57: 355.37 seconds\n",
      "Time after iteration 58: 355.38 seconds\n",
      "Time after iteration 59: 355.38 seconds\n",
      "16972688908618238933770849245964147960401887232000000000\n"
     ]
    }
   ],
   "source": [
    "# list of group orders of the stabilizer groups\n",
    "orders_list = []\n",
    "\n",
    "# list of generating sets of the stabilizer groups\n",
    "generators_list = []\n",
    "length_generators_list_before_sims_filter = []\n",
    "length_generators_list = []\n",
    "\n",
    "# list of Schreiers vectors for the stabilizer groups\n",
    "schreiers_vectors_list = []\n",
    "\n",
    "# the algorithm\n",
    "i = 0\n",
    "\n",
    "length_generators_list_before_sims_filter.append(len(generators))\n",
    "\n",
    "temp_generators = sims_filter(generators, N)\n",
    "length_generators_list.append(len(temp_generators))\n",
    "generators_list.append(temp_generators)\n",
    "\n",
    "start_time = time.time()\n",
    "\n",
    "while(len(temp_generators) > 0):\n",
    "    k = solving_order[i]\n",
    "\n",
    "    schreiers_vector = compute_schreiers_vector(temp_generators, N, k)\n",
    "    schreiers_vectors_list.append(schreiers_vector)\n",
    "\n",
    "    schreiers_vector_non_zero = [element for element in schreiers_vector if element is not None]\n",
    "\n",
    "    order_orbit = len(schreiers_vector_non_zero)\n",
    "    orders_list.append(order_orbit)\n",
    "\n",
    "    new_generators = generating_set(temp_generators, schreiers_vector, schreiers_vector_non_zero, k)\n",
    "    length_generators_list_before_sims_filter.append(len(new_generators))\n",
    "    # print(f\"Length of new generators before Sims filter: {len(new_generators)}\")\n",
    "\n",
    "    temp_generators = sims_filter(new_generators, N)\n",
    "    length_generators_list.append(len(temp_generators))\n",
    "    generators_list.append(temp_generators)\n",
    "    # print(f\"Length of new generators after Sims filter: {len(temp_generators)}\")\n",
    "\n",
    "    i += 1\n",
    "\n",
    "    elapsed_time = time.time()-start_time\n",
    "    print(f\"Time after iteration {i}: {elapsed_time:.2f} seconds\")\n",
    "\n",
    "\n",
    "# order of 3x3 rubiks cube group\n",
    "orders_list = np.array(orders_list, dtype=object)\n",
    "print(np.prod(orders_list))"
   ]
  },
  {
   "cell_type": "markdown",
   "id": "5f4f1222",
   "metadata": {},
   "source": [
    "## Membership testing"
   ]
  },
  {
   "cell_type": "code",
   "execution_count": null,
   "id": "b692a1c6",
   "metadata": {},
   "outputs": [
    {
     "name": "stdout",
     "output_type": "stream",
     "text": [
      "True\n"
     ]
    }
   ],
   "source": [
    "# choose the element you want to perform the check on\n",
    "\n",
    "g = Permutation(N-1)(0,10,20)(6,12,40) # double corner twist 3x3\n",
    "contained = True\n",
    "i = 0\n",
    "\n",
    "while i < len(schreiers_vectors_list):\n",
    "    k = solving_order[i]\n",
    "\n",
    "    orbit_set = schreiers_vectors_list[i]\n",
    "    h = g(k)\n",
    "    u = orbit_set[h]\n",
    "    if u is None:\n",
    "        contained = False\n",
    "        break\n",
    "    else:\n",
    "        g = g * u**-1\n",
    "    \n",
    "    i += 1\n",
    "\n",
    "if g != Permutation(N-1):\n",
    "    contained = False\n",
    "\n",
    "print(contained)"
   ]
  }
 ],
 "metadata": {
  "kernelspec": {
   "display_name": "Python 3",
   "language": "python",
   "name": "python3"
  },
  "language_info": {
   "codemirror_mode": {
    "name": "ipython",
    "version": 3
   },
   "file_extension": ".py",
   "mimetype": "text/x-python",
   "name": "python",
   "nbconvert_exporter": "python",
   "pygments_lexer": "ipython3",
   "version": "3.13.3"
  }
 },
 "nbformat": 4,
 "nbformat_minor": 5
}
