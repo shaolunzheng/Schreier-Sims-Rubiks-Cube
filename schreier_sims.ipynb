{
 "cells": [
  {
   "cell_type": "markdown",
   "id": "0e63e191",
   "metadata": {},
   "source": "# Schreier-Sims for Rubik's Cubes"
  },
  {
   "cell_type": "code",
   "id": "e736d56b",
   "metadata": {
    "ExecuteTime": {
     "end_time": "2025-07-19T16:06:13.343053Z",
     "start_time": "2025-07-19T12:51:55.625240Z"
    }
   },
   "source": [
    "import numpy as np, time, random\n",
    "from sympy.combinatorics import Permutation\n",
    "from functions import enumerate_cube, get_human_order, get_human_order_multiple, get_solved_states, compute_schreiers_tree, compute_generating_set, apply_sims_filter\n",
    "import config\n",
    "\n",
    "# choose size of Rubik's cube\n",
    "n = 3\n",
    "\n",
    "# N: order of the symmetric group (number of enumerated stickers)\n",
    "if n % 2 == 0:\n",
    "    N = 6 * n**2\n",
    "else:\n",
    "    N = 6 * n**2 - 6\n",
    "\n",
    "# set of moves that generate the Rubik's cube\n",
    "generators = enumerate_cube(n, N)\n",
    "\n",
    "identity_order = range(N)\n",
    "random_order = random.sample(range(N), N)\n",
    "human_order = get_human_order(n)\n",
    "human_oder_multiple = get_human_order_multiple(n)\n",
    "# choose solving order\n",
    "solving_order = [(1,3,5,7),(0,2,4,6),(9,13,35,39),(25,27,29,31),(24,26,28,30)]\n",
    "\n",
    "# list of group orders of the stabilizer groups\n",
    "orders_list = []\n",
    "\n",
    "# list of generating sets of the stabilizer groups\n",
    "generators_list = []\n",
    "length_generators_list_before_sims_filter = []\n",
    "length_generators_list = []\n",
    "\n",
    "# list of Schreiers vectors for the stabilizer groups\n",
    "schreiers_tree_list = []\n",
    "\n",
    "# dictionary of lengths of moves written as composition of original generators\n",
    "config.lengths = {Permutation(N-1):0}\n",
    "for generator in generators:\n",
    "    config.lengths[generator] = 1\n",
    "\n",
    "# the algorithm\n",
    "i = 0\n",
    "\n",
    "length_generators_list_before_sims_filter.append(len(generators))\n",
    "\n",
    "temp_generators = apply_sims_filter(generators, N)\n",
    "length_generators_list.append(len(temp_generators))\n",
    "generators_list.append(temp_generators)\n",
    "\n",
    "start_time = time.time()\n",
    "\n",
    "while len(temp_generators) > 0:\n",
    "    k = solving_order[i]\n",
    "\n",
    "    schreiers_tree = compute_schreiers_tree(temp_generators, N, k)\n",
    "    schreiers_tree_list.append(schreiers_tree)\n",
    "\n",
    "    orders_list.append(len(schreiers_tree))\n",
    "\n",
    "    new_generators = compute_generating_set(temp_generators, schreiers_tree, k)\n",
    "    length_generators_list_before_sims_filter.append(len(new_generators))\n",
    "\n",
    "    temp_generators = apply_sims_filter(new_generators, N)\n",
    "    length_generators_list.append(len(temp_generators))\n",
    "    generators_list.append(temp_generators)\n",
    "\n",
    "    i += 1\n",
    "\n",
    "    elapsed_time = time.time()-start_time\n",
    "    print(f\"Time after iteration {i}: {elapsed_time:.2f} seconds\")\n",
    "\n",
    "\n",
    "# compute visually solved states (useful for membership testing)\n",
    "solved_states = get_solved_states(n, N)"
   ],
   "outputs": [
    {
     "name": "stdout",
     "output_type": "stream",
     "text": [
      "Time after iteration 1: 428.64 seconds\n",
      "Time after iteration 2: 11532.86 seconds\n",
      "Time after iteration 3: 11655.55 seconds\n",
      "Time after iteration 4: 11655.88 seconds\n",
      "Time after iteration 5: 11656.26 seconds\n"
     ]
    }
   ],
   "execution_count": 1
  },
  {
   "cell_type": "markdown",
   "id": "b391e86f",
   "metadata": {},
   "source": [
    "## Order of Rubik's cube group"
   ]
  },
  {
   "cell_type": "code",
   "id": "3285b08f",
   "metadata": {
    "ExecuteTime": {
     "end_time": "2025-07-19T16:06:24.913695Z",
     "start_time": "2025-07-19T16:06:24.894189Z"
    }
   },
   "source": [
    "orders_list = np.array(orders_list, dtype=object)\n",
    "print(np.prod(orders_list))"
   ],
   "outputs": [
    {
     "name": "stdout",
     "output_type": "stream",
     "text": [
      "43252003274489856000\n"
     ]
    }
   ],
   "execution_count": 2
  },
  {
   "cell_type": "markdown",
   "id": "5f4f1222",
   "metadata": {},
   "source": "## Membership testing and length of solving algorithm"
  },
  {
   "cell_type": "code",
   "id": "b692a1c6",
   "metadata": {
    "ExecuteTime": {
     "end_time": "2025-07-19T16:14:23.135391Z",
     "start_time": "2025-07-19T16:14:23.118877Z"
    }
   },
   "source": [
    "# choose the element you want to perform the check on\n",
    "\n",
    "# some examples of moves:\n",
    "\n",
    "# for generator in generators:\n",
    "#     move = Permutation(generator)\n",
    "#     print(generator)\n",
    "l = list(generators)\n",
    "move = l[1]*l[2]*l[3]*(l[2]**-1)*l[5]*l[1]*(l[3]**-1)*l[0]*l[2]*l[1]\n",
    "print(move)\n",
    "# move = Permutation(N-1)(0,10,20)(6,12,40) # double corner twist on 3x3\n",
    "# move = Permutation(N-1)(51,63)(0,40,20)(32,52,72) # double corner twist and enter swap on 4x4\n",
    "\n",
    "# the algorithm\n",
    "\n",
    "contained = False\n",
    "length_solving_algorithm = 0\n",
    "\n",
    "for solved_state in solved_states:\n",
    "    g = move * solved_state\n",
    "    length_solving_algorithm = 0\n",
    "\n",
    "    i = 0\n",
    "    while i < len(schreiers_tree_list):\n",
    "        k = solving_order[i]\n",
    "\n",
    "        schreiers_tree = schreiers_tree_list[i]\n",
    "        h = tuple(g(x) for x in k)\n",
    "        u = schreiers_tree.get(h)\n",
    "        if u is None:\n",
    "            break\n",
    "        else:\n",
    "            g = g * u**-1\n",
    "            length_solving_algorithm += config.lengths[u]\n",
    "        i += 1\n",
    "\n",
    "    if g == Permutation(N-1):\n",
    "        contained = True\n",
    "        print(length_solving_algorithm)\n",
    "        break\n",
    "\n",
    "print(contained)"
   ],
   "outputs": [
    {
     "name": "stdout",
     "output_type": "stream",
     "text": [
      "(0 8 10 28 20 22)(1 25 39)(2 44 6 32 16 46 34 24 12 4 36 14 18 38 40 42 26 30)(3 27 29 21 7 47 35 33 23 15 9 11 13 17)(19 37 43)(31 45)\n",
      "6238\n",
      "True\n"
     ]
    }
   ],
   "execution_count": 8
  }
 ],
 "metadata": {
  "kernelspec": {
   "display_name": "Python 3",
   "language": "python",
   "name": "python3"
  },
  "language_info": {
   "codemirror_mode": {
    "name": "ipython",
    "version": 3
   },
   "file_extension": ".py",
   "mimetype": "text/x-python",
   "name": "python",
   "nbconvert_exporter": "python",
   "pygments_lexer": "ipython3",
   "version": "3.13.3"
  }
 },
 "nbformat": 4,
 "nbformat_minor": 5
}
