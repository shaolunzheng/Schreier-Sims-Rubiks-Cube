{
 "cells": [
  {
   "cell_type": "markdown",
   "id": "0e63e191",
   "metadata": {},
   "source": [
    "# Schreier-Sims for Rubik's Cubes"
   ]
  },
  {
   "cell_type": "code",
   "execution_count": 1,
   "id": "e736d56b",
   "metadata": {},
   "outputs": [],
   "source": [
    "import numpy as np, time, random\n",
    "from sympy.combinatorics import Permutation\n",
    "from functions import enumerate, compute_schreiers_vector, generating_set, sims_filter\n",
    "\n",
    "# choose size of Rubik's cube\n",
    "n = 3\n",
    "\n",
    "# N: order of the symmetric group (number of enumerated stickers)\n",
    "if n % 2 == 0:\n",
    "    N = 6 * n * n\n",
    "else :\n",
    "    N = 6 * n * n - 6\n",
    "\n",
    "# set of moves that generate the Rubik's cube\n",
    "generators = enumerate(n, N)\n",
    "\n",
    "identity_order = range(N)\n",
    "random_order = random.sample(range(N), N)\n",
    "human_order_3x3 = [1,3,5,7,0,2,4,6,9,13,35,39,25,27,29,31,24,26,28,30,\n",
    "               8,10,11,12,14,15,16,17,18,19,20,21,22,23,32,33,34,36,37,38,40,41,42,43,44,45,46,47]\n",
    "human_order_4x4 = [3,7,11,15,51,55,59,63,19,23,27,31,19,23,27,31,35,39,43,47,67,71,75,79,83,87,91,95,\n",
    "                   1,6,5,10,9,14,13,2,0,4,8,12,17,22,25,30,66,77,69,74,49,54,53,58,57,62,61,50,48,52,56,60,\n",
    "                   20,21,26,24,36,37,42,40,64,65,70,68,80,81,86,84,16,18,29,28,32,34,45,44,72,73,78,76,88,89,94,92,33,38,41,46,82,93,85,90]\n",
    "# choose solving order\n",
    "solving_order = human_order_3x3"
   ]
  },
  {
   "cell_type": "markdown",
   "id": "b703710e",
   "metadata": {},
   "source": [
    "## Schreier-Sims and order of Rubik's cube group"
   ]
  },
  {
   "cell_type": "code",
   "execution_count": 2,
   "id": "ed886a07",
   "metadata": {},
   "outputs": [
    {
     "name": "stdout",
     "output_type": "stream",
     "text": [
      "Time after iteration 1: 0.03 seconds\n",
      "Time after iteration 2: 1.34 seconds\n",
      "Time after iteration 3: 4.30 seconds\n",
      "Time after iteration 4: 6.21 seconds\n",
      "Time after iteration 5: 8.24 seconds\n",
      "Time after iteration 6: 9.77 seconds\n",
      "Time after iteration 7: 10.77 seconds\n",
      "Time after iteration 8: 11.51 seconds\n",
      "Time after iteration 9: 12.11 seconds\n",
      "Time after iteration 10: 12.51 seconds\n",
      "Time after iteration 11: 12.73 seconds\n",
      "Time after iteration 12: 12.85 seconds\n",
      "Time after iteration 13: 12.91 seconds\n",
      "Time after iteration 14: 12.93 seconds\n",
      "Time after iteration 15: 12.94 seconds\n",
      "Time after iteration 16: 12.94 seconds\n",
      "Time after iteration 17: 12.97 seconds\n",
      "Time after iteration 18: 12.97 seconds\n",
      "Time after iteration 19: 12.97 seconds\n",
      "43252003274489856000\n"
     ]
    }
   ],
   "source": [
    "# list of group orders of the stabilizer groups\n",
    "orders_list = []\n",
    "\n",
    "# list of generating sets of the stabilizer groups\n",
    "generators_list = []\n",
    "length_generators_list_before_sims_filter = []\n",
    "length_generators_list = []\n",
    "\n",
    "# list of Schreiers vectors for the stabilizer groups\n",
    "schreiers_vectors_list = []\n",
    "\n",
    "# the algorithm\n",
    "i = 0\n",
    "\n",
    "length_generators_list_before_sims_filter.append(len(generators))\n",
    "\n",
    "temp_generators = sims_filter(generators, N)\n",
    "length_generators_list.append(len(temp_generators))\n",
    "generators_list.append(temp_generators)\n",
    "\n",
    "start_time = time.time()\n",
    "\n",
    "while(len(temp_generators) > 0):\n",
    "    k = solving_order[i]\n",
    "\n",
    "    schreiers_vector = compute_schreiers_vector(temp_generators, N, k)\n",
    "    schreiers_vectors_list.append(schreiers_vector)\n",
    "\n",
    "    schreiers_vector_non_zero = [element for element in schreiers_vector if element is not None]\n",
    "\n",
    "    order_orbit = len(schreiers_vector_non_zero)\n",
    "    orders_list.append(order_orbit)\n",
    "\n",
    "    new_generators = generating_set(temp_generators, schreiers_vector, schreiers_vector_non_zero, k)\n",
    "    length_generators_list_before_sims_filter.append(len(new_generators))\n",
    "    # print(f\"Length of new generators before Sims filter: {len(new_generators)}\")\n",
    "\n",
    "    temp_generators = sims_filter(new_generators, N)\n",
    "    length_generators_list.append(len(temp_generators))\n",
    "    generators_list.append(temp_generators)\n",
    "    # print(f\"Length of new generators after Sims filter: {len(temp_generators)}\")\n",
    "\n",
    "    i += 1\n",
    "\n",
    "    elapsed_time = time.time()-start_time\n",
    "    print(f\"Time after iteration {i}: {elapsed_time:.2f} seconds\")\n",
    "\n",
    "\n",
    "# order of 3x3 rubiks cube group\n",
    "orders_list = np.array(orders_list, dtype=object)\n",
    "print(np.prod(orders_list))"
   ]
  },
  {
   "cell_type": "markdown",
   "id": "5f4f1222",
   "metadata": {},
   "source": [
    "## Membership testing"
   ]
  },
  {
   "cell_type": "code",
   "execution_count": 3,
   "id": "b692a1c6",
   "metadata": {},
   "outputs": [
    {
     "name": "stdout",
     "output_type": "stream",
     "text": [
      "True\n"
     ]
    }
   ],
   "source": [
    "# choose the element you want to perform the check on\n",
    "g = Permutation(N-1)(0,10,20)(6,12,40) # double corner twist 3x3\n",
    "\n",
    "# the algorithm\n",
    "contained = True\n",
    "i = 0\n",
    "\n",
    "while i < len(schreiers_vectors_list):\n",
    "    k = solving_order[i]\n",
    "\n",
    "    orbit_set = schreiers_vectors_list[i]\n",
    "    h = g(k)\n",
    "    u = orbit_set[h]\n",
    "    if u is None:\n",
    "        contained = False\n",
    "        break\n",
    "    else:\n",
    "        g = g * u**-1\n",
    "    \n",
    "    i += 1\n",
    "\n",
    "if g != Permutation(N-1):\n",
    "    contained = False\n",
    "\n",
    "print(contained)"
   ]
  }
 ],
 "metadata": {
  "kernelspec": {
   "display_name": "Python 3",
   "language": "python",
   "name": "python3"
  },
  "language_info": {
   "codemirror_mode": {
    "name": "ipython",
    "version": 3
   },
   "file_extension": ".py",
   "mimetype": "text/x-python",
   "name": "python",
   "nbconvert_exporter": "python",
   "pygments_lexer": "ipython3",
   "version": "3.13.3"
  }
 },
 "nbformat": 4,
 "nbformat_minor": 5
}
