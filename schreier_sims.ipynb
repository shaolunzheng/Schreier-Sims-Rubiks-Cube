{
 "cells": [
  {
   "cell_type": "markdown",
   "id": "0e63e191",
   "metadata": {},
   "source": "# Schreier-Sims for Rubik's Cubes"
  },
  {
   "cell_type": "code",
   "id": "e736d56b",
   "metadata": {
    "ExecuteTime": {
     "end_time": "2025-07-20T17:16:36.886467Z",
     "start_time": "2025-07-20T17:16:33.879624Z"
    }
   },
   "source": [
    "import numpy as np, time, random\n",
    "from sympy.combinatorics import Permutation\n",
    "from functions import enumerate_cube, get_human_order, get_human_order_multiple, get_solved_states, compute_schreiers_tree, compute_generating_set, apply_sims_filter\n",
    "import config\n",
    "\n",
    "# choose size of Rubik's cube\n",
    "n = 3\n",
    "\n",
    "# N: order of the symmetric group (number of enumerated stickers)\n",
    "if n % 2 == 0:\n",
    "    N = 6 * n**2\n",
    "else:\n",
    "    N = 6 * n**2 - 6\n",
    "\n",
    "# set of moves that generate the Rubik's cube\n",
    "generators = enumerate_cube(n, N)\n",
    "\n",
    "identity_order = range(N)\n",
    "random_order = [(x,) for x in random.sample(range(N), N)]\n",
    "human_order = get_human_order(n)\n",
    "human_order_multiple = get_human_order_multiple(n)\n",
    "# choose solving order\n",
    "solving_order = random_order\n",
    "\n",
    "# list of group orders of the stabilizer groups\n",
    "orders_list = []\n",
    "\n",
    "# list of generating sets of the stabilizer groups\n",
    "generators_list = []\n",
    "length_generators_list_before_sims_filter = []\n",
    "length_generators_list = []\n",
    "\n",
    "# list of Schreiers vectors for the stabilizer groups\n",
    "schreiers_tree_list = []\n",
    "\n",
    "# dictionary of lengths of moves written as composition of original generators\n",
    "config.lengths = {Permutation(N-1):0}\n",
    "for generator in generators:\n",
    "    config.lengths[generator] = 1\n",
    "\n",
    "# the algorithm\n",
    "i = 0\n",
    "\n",
    "length_generators_list_before_sims_filter.append(len(generators))\n",
    "\n",
    "temp_generators = apply_sims_filter(generators, N)\n",
    "length_generators_list.append(len(temp_generators))\n",
    "generators_list.append(temp_generators)\n",
    "\n",
    "start_time = time.time()\n",
    "\n",
    "while len(temp_generators) > 0:\n",
    "    k = solving_order[i]\n",
    "\n",
    "    schreiers_tree = compute_schreiers_tree(temp_generators, N, k)\n",
    "    schreiers_tree_list.append(schreiers_tree)\n",
    "\n",
    "    orders_list.append(len(schreiers_tree))\n",
    "\n",
    "    new_generators = compute_generating_set(temp_generators, schreiers_tree, k)\n",
    "    length_generators_list_before_sims_filter.append(len(new_generators))\n",
    "\n",
    "    temp_generators = apply_sims_filter(new_generators, N)\n",
    "    length_generators_list.append(len(temp_generators))\n",
    "    generators_list.append(temp_generators)\n",
    "\n",
    "    i += 1\n",
    "\n",
    "    elapsed_time = time.time()-start_time\n",
    "    print(f\"Time after iteration {i}: {elapsed_time:.2f} seconds\")\n",
    "\n",
    "\n",
    "# compute visually solved states (useful for membership testing)\n",
    "solved_states = get_solved_states(n, N)"
   ],
   "outputs": [
    {
     "name": "stdout",
     "output_type": "stream",
     "text": [
      "Time after iteration 1: 0.00 seconds\n",
      "Time after iteration 2: 0.36 seconds\n",
      "Time after iteration 3: 0.85 seconds\n",
      "Time after iteration 4: 1.45 seconds\n",
      "Time after iteration 5: 1.46 seconds\n",
      "Time after iteration 6: 1.76 seconds\n",
      "Time after iteration 7: 1.76 seconds\n",
      "Time after iteration 8: 1.76 seconds\n",
      "Time after iteration 9: 1.77 seconds\n",
      "Time after iteration 10: 1.97 seconds\n",
      "Time after iteration 11: 2.25 seconds\n",
      "Time after iteration 12: 2.58 seconds\n",
      "Time after iteration 13: 2.58 seconds\n",
      "Time after iteration 14: 2.66 seconds\n",
      "Time after iteration 15: 2.80 seconds\n",
      "Time after iteration 16: 2.87 seconds\n",
      "Time after iteration 17: 2.92 seconds\n",
      "Time after iteration 18: 2.94 seconds\n",
      "Time after iteration 19: 2.94 seconds\n",
      "Time after iteration 20: 2.94 seconds\n",
      "Time after iteration 21: 2.94 seconds\n",
      "Time after iteration 22: 2.96 seconds\n",
      "Time after iteration 23: 2.97 seconds\n",
      "Time after iteration 24: 2.97 seconds\n",
      "Time after iteration 25: 2.97 seconds\n",
      "Time after iteration 26: 2.97 seconds\n",
      "Time after iteration 27: 2.97 seconds\n",
      "Time after iteration 28: 2.97 seconds\n",
      "Time after iteration 29: 2.97 seconds\n",
      "Time after iteration 30: 2.97 seconds\n",
      "Time after iteration 31: 2.97 seconds\n",
      "Time after iteration 32: 2.97 seconds\n",
      "Time after iteration 33: 2.97 seconds\n",
      "Time after iteration 34: 2.97 seconds\n"
     ]
    }
   ],
   "execution_count": 5
  },
  {
   "cell_type": "markdown",
   "id": "b391e86f",
   "metadata": {},
   "source": [
    "## Order of Rubik's cube group"
   ]
  },
  {
   "cell_type": "code",
   "id": "3285b08f",
   "metadata": {
    "ExecuteTime": {
     "end_time": "2025-07-20T17:18:27.890567Z",
     "start_time": "2025-07-20T17:18:27.887666Z"
    }
   },
   "source": [
    "orders_list = np.array(orders_list, dtype=object)\n",
    "print(np.prod(orders_list))"
   ],
   "outputs": [
    {
     "name": "stdout",
     "output_type": "stream",
     "text": [
      "43252003274489856000\n"
     ]
    }
   ],
   "execution_count": 7
  },
  {
   "cell_type": "markdown",
   "id": "5f4f1222",
   "metadata": {},
   "source": "## Membership testing and length of solving algorithm"
  },
  {
   "cell_type": "code",
   "id": "b692a1c6",
   "metadata": {
    "ExecuteTime": {
     "end_time": "2025-07-20T17:19:44.658678Z",
     "start_time": "2025-07-20T17:19:44.652514Z"
    }
   },
   "source": [
    "# choose the element you want to perform the check on\n",
    "\n",
    "# some examples of moves:\n",
    "\n",
    "# for generator in generators:\n",
    "#     move = Permutation(generator)\n",
    "#     print(generator)\n",
    "l = list(generators)\n",
    "move = l[1]*l[2]*l[3]*(l[2]**-1)*l[5]*l[1]*(l[3]**-1)*l[4]*(l[5]**-1)*l[0]*(l[4]**-1)*l[5]\n",
    "print(move)\n",
    "# move = Permutation(N-1)(0,10,20)(6,12,40) # double corner twist on 3x3\n",
    "# move = Permutation(N-1)(51,63)(0,40,20)(32,52,72) # double corner twist and enter swap on 4x4\n",
    "\n",
    "# the algorithm\n",
    "\n",
    "contained = False\n",
    "length_solving_algorithm = 0\n",
    "\n",
    "for solved_state in solved_states:\n",
    "    g = move * solved_state\n",
    "    length_solving_algorithm = 0\n",
    "\n",
    "    i = 0\n",
    "    while i < len(schreiers_tree_list):\n",
    "        k = solving_order[i]\n",
    "\n",
    "        schreiers_tree = schreiers_tree_list[i]\n",
    "        h = tuple(g(x) for x in k)\n",
    "        u = schreiers_tree.get(h)\n",
    "        if u is None:\n",
    "            break\n",
    "        else:\n",
    "            g = g * u**-1\n",
    "            length_solving_algorithm += config.lengths[u]\n",
    "        i += 1\n",
    "\n",
    "    if g == Permutation(N-1):\n",
    "        contained = True\n",
    "        print(length_solving_algorithm)\n",
    "        break\n",
    "\n",
    "print(contained)"
   ],
   "outputs": [
    {
     "name": "stdout",
     "output_type": "stream",
     "text": [
      "(0 28 6 26 24 20 8 12 16 38 10 22 40 36 44)(1 45)(3 33)(4 42 32)(5 43 47 35 7)(9 21)(11 41 39 13 17)(14 30 46)(19 31)(23 37)(25 27)\n",
      "1596065754\n",
      "True\n"
     ]
    }
   ],
   "execution_count": 12
  }
 ],
 "metadata": {
  "kernelspec": {
   "display_name": "Python 3",
   "language": "python",
   "name": "python3"
  },
  "language_info": {
   "codemirror_mode": {
    "name": "ipython",
    "version": 3
   },
   "file_extension": ".py",
   "mimetype": "text/x-python",
   "name": "python",
   "nbconvert_exporter": "python",
   "pygments_lexer": "ipython3",
   "version": "3.13.3"
  }
 },
 "nbformat": 4,
 "nbformat_minor": 5
}
