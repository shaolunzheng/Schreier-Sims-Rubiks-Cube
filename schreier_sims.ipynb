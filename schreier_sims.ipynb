{
 "cells": [
  {
   "cell_type": "markdown",
   "id": "0e63e191",
   "metadata": {},
   "source": [
    "# Schreier-Sims for Rubik's Cubes"
   ]
  },
  {
   "cell_type": "code",
   "execution_count": 1,
   "id": "e736d56b",
   "metadata": {},
   "outputs": [
    {
     "name": "stdout",
     "output_type": "stream",
     "text": [
      "Time after iteration 1: 0.04 seconds\n",
      "Time after iteration 2: 14.31 seconds\n",
      "Time after iteration 3: 59.53 seconds\n",
      "Time after iteration 4: 100.73 seconds\n",
      "Time after iteration 5: 136.99 seconds\n",
      "Time after iteration 6: 168.84 seconds\n",
      "Time after iteration 7: 197.73 seconds\n",
      "Time after iteration 8: 221.32 seconds\n",
      "Time after iteration 9: 242.44 seconds\n",
      "Time after iteration 10: 261.08 seconds\n",
      "Time after iteration 11: 277.99 seconds\n",
      "Time after iteration 12: 293.03 seconds\n",
      "Time after iteration 13: 293.08 seconds\n",
      "Time after iteration 14: 293.13 seconds\n",
      "Time after iteration 15: 293.17 seconds\n",
      "Time after iteration 16: 293.21 seconds\n",
      "Time after iteration 17: 306.25 seconds\n",
      "Time after iteration 18: 318.00 seconds\n",
      "Time after iteration 19: 328.30 seconds\n",
      "Time after iteration 20: 337.41 seconds\n",
      "Time after iteration 21: 344.21 seconds\n",
      "Time after iteration 22: 350.33 seconds\n",
      "Time after iteration 23: 354.68 seconds\n",
      "Time after iteration 24: 358.23 seconds\n",
      "Time after iteration 25: 360.62 seconds\n",
      "Time after iteration 26: 361.94 seconds\n",
      "Time after iteration 27: 362.56 seconds\n",
      "Time after iteration 28: 362.60 seconds\n",
      "Time after iteration 29: 378.39 seconds\n",
      "Time after iteration 30: 394.98 seconds\n",
      "Time after iteration 31: 408.58 seconds\n",
      "Time after iteration 32: 419.11 seconds\n",
      "Time after iteration 33: 428.54 seconds\n",
      "Time after iteration 34: 436.98 seconds\n",
      "Time after iteration 35: 442.74 seconds\n",
      "Time after iteration 36: 446.65 seconds\n",
      "Time after iteration 37: 451.99 seconds\n",
      "Time after iteration 38: 455.56 seconds\n",
      "Time after iteration 39: 458.11 seconds\n",
      "Time after iteration 40: 460.08 seconds\n",
      "Time after iteration 41: 461.82 seconds\n",
      "Time after iteration 42: 463.30 seconds\n",
      "Time after iteration 43: 464.38 seconds\n",
      "Time after iteration 44: 465.22 seconds\n",
      "Time after iteration 45: 465.76 seconds\n",
      "Time after iteration 46: 466.15 seconds\n",
      "Time after iteration 47: 466.43 seconds\n",
      "Time after iteration 48: 466.63 seconds\n",
      "Time after iteration 49: 466.78 seconds\n",
      "Time after iteration 50: 466.88 seconds\n",
      "Time after iteration 51: 466.93 seconds\n",
      "Time after iteration 52: 466.97 seconds\n",
      "Time after iteration 53: 467.00 seconds\n",
      "Time after iteration 54: 467.01 seconds\n",
      "Time after iteration 55: 467.02 seconds\n",
      "Time after iteration 56: 467.02 seconds\n",
      "Time after iteration 57: 467.03 seconds\n",
      "Time after iteration 58: 467.04 seconds\n",
      "Time after iteration 59: 467.04 seconds\n"
     ]
    }
   ],
   "source": [
    "import numpy as np, time, random\n",
    "from sympy.combinatorics import Permutation\n",
    "from functions import enumerate, human_order, solved_states, compute_schreiers_vector, generating_set, sims_filter\n",
    "\n",
    "# choose size of Rubik's cube\n",
    "n = 4\n",
    "\n",
    "# N: order of the symmetric group (number of enumerated stickers)\n",
    "if n % 2 == 0:\n",
    "    N = 6 * n**2\n",
    "else:\n",
    "    N = 6 * n**2 - 6\n",
    "\n",
    "# set of moves that generate the Rubik's cube\n",
    "generators = enumerate(n, N)\n",
    "\n",
    "identity_order = range(N)\n",
    "random_order = random.sample(range(N), N)\n",
    "human_order = human_order(n)\n",
    "# choose solving order\n",
    "solving_order = human_order\n",
    "\n",
    "# list of group orders of the stabilizer groups\n",
    "orders_list = []\n",
    "\n",
    "# list of generating sets of the stabilizer groups\n",
    "generators_list = []\n",
    "length_generators_list_before_sims_filter = []\n",
    "length_generators_list = []\n",
    "\n",
    "# list of Schreiers vectors for the stabilizer groups\n",
    "schreiers_vectors_list = []\n",
    "\n",
    "# the algorithm\n",
    "i = 0\n",
    "\n",
    "length_generators_list_before_sims_filter.append(len(generators))\n",
    "\n",
    "temp_generators = sims_filter(generators, N)\n",
    "length_generators_list.append(len(temp_generators))\n",
    "generators_list.append(temp_generators)\n",
    "\n",
    "start_time = time.time()\n",
    "\n",
    "while(len(temp_generators) > 0):\n",
    "    k = solving_order[i]\n",
    "\n",
    "    schreiers_vector = compute_schreiers_vector(temp_generators, N, k)\n",
    "    schreiers_vectors_list.append(schreiers_vector)\n",
    "\n",
    "    schreiers_vector_non_zero = [element for element in schreiers_vector if element is not None]\n",
    "\n",
    "    order_orbit = len(schreiers_vector_non_zero)\n",
    "    orders_list.append(order_orbit)\n",
    "\n",
    "    new_generators = generating_set(temp_generators, schreiers_vector, schreiers_vector_non_zero, k)\n",
    "    length_generators_list_before_sims_filter.append(len(new_generators))\n",
    "    # print(f\"Length of new generators before Sims filter: {len(new_generators)}\")\n",
    "\n",
    "    temp_generators = sims_filter(new_generators, N)\n",
    "    length_generators_list.append(len(temp_generators))\n",
    "    generators_list.append(temp_generators)\n",
    "    # print(f\"Length of new generators after Sims filter: {len(temp_generators)}\")\n",
    "\n",
    "    i += 1\n",
    "\n",
    "    elapsed_time = time.time()-start_time\n",
    "    print(f\"Time after iteration {i}: {elapsed_time:.2f} seconds\")\n",
    "\n",
    "\n",
    "# compute visually solved states (useful for membership testing)\n",
    "solved_states = solved_states(n, N)"
   ]
  },
  {
   "cell_type": "markdown",
   "id": "b391e86f",
   "metadata": {},
   "source": [
    "## Order of Rubik's cube group"
   ]
  },
  {
   "cell_type": "code",
   "execution_count": 2,
   "id": "3285b08f",
   "metadata": {},
   "outputs": [
    {
     "name": "stdout",
     "output_type": "stream",
     "text": [
      "16972688908618238933770849245964147960401887232000000000\n"
     ]
    }
   ],
   "source": [
    "orders_list = np.array(orders_list, dtype=object)\n",
    "print(np.prod(orders_list))"
   ]
  },
  {
   "cell_type": "markdown",
   "id": "5f4f1222",
   "metadata": {},
   "source": [
    "## Membership testing"
   ]
  },
  {
   "cell_type": "code",
   "execution_count": null,
   "id": "b692a1c6",
   "metadata": {},
   "outputs": [
    {
     "name": "stdout",
     "output_type": "stream",
     "text": [
      "False\n"
     ]
    }
   ],
   "source": [
    "# choose the element you want to perform the check on\n",
    "\n",
    "# some examples of moves:\n",
    "\n",
    "# move = Permutation(N-1)(0,10,20)(6,12,40) # double corner twist on 3x3\n",
    "move = Permutation(N-1)(51,63)(0,40,20)(32,52,72) # double conrner twist and enter swap on 4x4\n",
    "\n",
    "# the algorithm\n",
    "\n",
    "contained = False\n",
    "\n",
    "for solved_state in solved_states:\n",
    "    g = move * solved_state\n",
    "\n",
    "    i = 0\n",
    "    while i < len(schreiers_vectors_list):\n",
    "        k = solving_order[i]\n",
    "\n",
    "        orbit_set = schreiers_vectors_list[i]\n",
    "        h = g(k)\n",
    "        u = orbit_set[h]\n",
    "        if u is None:\n",
    "            break\n",
    "        else:\n",
    "            g = g * u**-1\n",
    "        \n",
    "        i += 1\n",
    "\n",
    "    if g == Permutation(N-1):\n",
    "        contained = True\n",
    "        break\n",
    "\n",
    "print(contained)"
   ]
  }
 ],
 "metadata": {
  "kernelspec": {
   "display_name": "Python 3",
   "language": "python",
   "name": "python3"
  },
  "language_info": {
   "codemirror_mode": {
    "name": "ipython",
    "version": 3
   },
   "file_extension": ".py",
   "mimetype": "text/x-python",
   "name": "python",
   "nbconvert_exporter": "python",
   "pygments_lexer": "ipython3",
   "version": "3.13.3"
  }
 },
 "nbformat": 4,
 "nbformat_minor": 5
}
