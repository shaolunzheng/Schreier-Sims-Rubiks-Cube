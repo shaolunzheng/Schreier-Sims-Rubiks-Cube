{
 "cells": [
  {
   "cell_type": "code",
   "execution_count": 8,
   "id": "7c2c0c0f",
   "metadata": {},
   "outputs": [
    {
     "name": "stdout",
     "output_type": "stream",
     "text": [
      "Dimensions of the cube: 5 x 5 x 5\n",
      "[Permutation(1, 7, 13, 19)(2, 8, 14, 20)(3, 9, 15, 21)(4, 10, 16, 22)(5, 11, 17, 23)(6, 12, 18, 24)(31, 55, 97, 121)(32, 56, 98, 122)(33, 57, 99, 123)(37, 61, 103, 127)(40, 64, 106, 130), Permutation(34, 58, 100, 124)(35, 59, 101, 125)(36, 60, 102, 126)(38, 62, 104, 128)(41, 65, 107, 131), Permutation(1, 121, 91, 67)(4, 124, 94, 70)(19, 139, 85, 61)(20, 140, 86, 62)(21, 141, 87, 63)(25, 31, 37, 43)(26, 32, 38, 44)(27, 33, 39, 45)(28, 34, 40, 46)(29, 35, 41, 47)(30, 36, 42, 48), Permutation(2, 122, 92, 68)(5, 125, 95, 71)(22, 142, 88, 64)(23, 143, 89, 65)(24, 144, 90, 66), Permutation(1, 25, 79, 103)(2, 26, 80, 104)(3, 27, 81, 105)(7, 31, 85, 109)(10, 34, 88, 112)(49, 55, 61, 67)(50, 56, 62, 68)(51, 57, 63, 69)(52, 58, 64, 70)(53, 59, 65, 71)(54, 60, 66, 72), Permutation(4, 28, 82, 106)(5, 29, 83, 107)(6, 30, 84, 108)(8, 32, 86, 110)(11, 35, 89, 113), Permutation(25, 139, 115, 49)(28, 142, 118, 52)(43, 133, 109, 67)(44, 134, 110, 68)(45, 135, 111, 69)(73, 79, 85, 91)(74, 80, 86, 92)(75, 81, 87, 93)(76, 82, 88, 94)(77, 83, 89, 95)(78, 84, 90, 96), Permutation(26, 140, 116, 50)(29, 143, 119, 53)(46, 136, 112, 70)(47, 137, 113, 71)(48, 138, 114, 72), Permutation(7, 49, 73, 127)(8, 50, 74, 128)(9, 51, 75, 129)(13, 55, 79, 133)(16, 58, 82, 136)(97, 103, 109, 115)(98, 104, 110, 116)(99, 105, 111, 117)(100, 106, 112, 118)(101, 107, 113, 119)(102, 108, 114, 120), Permutation(10, 52, 76, 130)(11, 53, 77, 131)(12, 54, 78, 132)(14, 56, 80, 134)(17, 59, 83, 137), Permutation(13, 115, 91, 37)(14, 116, 92, 38)(15, 117, 93, 39)(19, 97, 73, 43)(22, 100, 76, 46)(121, 127, 133, 139)(122, 128, 134, 140)(123, 129, 135, 141)(124, 130, 136, 142)(125, 131, 137, 143)(126, 132, 138, 144), Permutation(16, 118, 94, 40)(17, 119, 95, 41)(18, 120, 96, 42)(20, 98, 74, 44)(23, 101, 77, 47)]\n",
      "Number of generators: 12\n",
      "Group order: 2582636272886959379162819698174683585918088940054237132144778804568925405184000000000000000\n"
     ]
    }
   ],
   "source": [
    "from sympy.combinatorics import Permutation, PermutationGroup\n",
    "\n",
    "n = 5\n",
    "\n",
    "turns = []\n",
    "\n",
    "if n % 2 == 0:\n",
    "    a = n**2 # number of stickers on each face\n",
    "    b = a//4 # number of 4-clusters on each face\n",
    "    c = n//2 # side length of 4-cluster\n",
    "    d = n//2 # side width of 4-cluster\n",
    "else:\n",
    "    a = n**2-1 # number of (labeled, i.e. without middle center) stickers on each face\n",
    "    b = a//4 # number of 4-clusters on each face\n",
    "    c = (n+1)//2 # side length of 4-cluster\n",
    "    d = (n-1)//2 # side width of 4-cluster\n",
    "\n",
    "right = [a+b, 2*a+b, 4*a, 5*a, a+2*b, 2*a+2*b, 4*a+b, 5*a+b, 0]\n",
    "front = [3*b, 5*a+3*b, 3*a+2*b, 2*a+2*b, 0, 5*a, 3*a+3*b, 2*a+3*b, a]\n",
    "up = [0, a, 3*a+b, 4*a+b, b, a+b, 3*a+2*b, 4*a+2*b, 2*a]\n",
    "left = [a+3*b, 5*a+2*b, 4*a+2*b, 2*a+3*b, a, 5*a+3*b, 4*a+3*b, 2*a, 3*a]\n",
    "back = [b, 2*a, 3*a, 5*a+b, 2*b, 2*a+b, 3*a+b, 5*a+2*b, 4*a]\n",
    "down = [2*b, 4*a+3*b, 3*a+3*b, a+2*b, 3*b, 4*a, 3*a, a+3*b, 5*a]\n",
    "\n",
    "faces = [right, front, up, left, back, down]\n",
    "\n",
    "for face in faces:\n",
    "    for k in range(1, d+1):\n",
    "        P = Permutation()\n",
    "        for i in range(1, c+1):\n",
    "            P*= Permutation(face[0]+(k-1)*c+i, face[1]+(k-1)*c+i, face[2]+(k-1)*c+i, face[3]+(k-1)*c+i)\n",
    "        for j in range(0, d):\n",
    "            P*= Permutation(face[4]+j*c+k, face[5]+j*c+k, face[6]+j*c+k, face[7]+j*c+k)\n",
    "        if k == 1:\n",
    "            for l in range(1, b+1):\n",
    "                P*= Permutation(face[8]+l, face[8]+l+b, face[8]+l+2*b, face[8]+l+3*b)\n",
    "        turns.append(P)\n",
    "group = PermutationGroup(turns)\n",
    "\n",
    "print(\"Dimensions of the cube:\", n, \"x\", n, \"x\", n)\n",
    "print(turns)\n",
    "print(\"Number of generators:\", len(turns))\n",
    "print(\"Group order:\", group.order())\n",
    "\n"
   ]
  }
 ],
 "metadata": {
  "kernelspec": {
   "display_name": "Python 3",
   "language": "python",
   "name": "python3"
  },
  "language_info": {
   "codemirror_mode": {
    "name": "ipython",
    "version": 3
   },
   "file_extension": ".py",
   "mimetype": "text/x-python",
   "name": "python",
   "nbconvert_exporter": "python",
   "pygments_lexer": "ipython3",
   "version": "3.13.3"
  }
 },
 "nbformat": 4,
 "nbformat_minor": 5
}
