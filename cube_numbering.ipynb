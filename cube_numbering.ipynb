{
 "cells": [
  {
   "cell_type": "code",
   "execution_count": 2,
   "id": "7c2c0c0f",
   "metadata": {},
   "outputs": [
    {
     "name": "stdout",
     "output_type": "stream",
     "text": [
      "Dimensions of the cube: 4 x 4 x 4\n",
      "Number of generators: 12\n",
      "Group order: 16972688908618238933770849245964147960401887232000000000\n"
     ]
    }
   ],
   "source": [
    "from sympy.combinatorics import Permutation, PermutationGroup\n",
    "\n",
    "n = 4\n",
    "\n",
    "turns = []\n",
    "\n",
    "if n % 2 == 0:\n",
    "    a = n**2 # number of stickers on each face\n",
    "    b = a//4 # number of 4-clusters on each face\n",
    "    c = n//2 # side length of 4-cluster\n",
    "    d = n//2 # side width of 4-cluster\n",
    "else:\n",
    "    a = n**2-1 # number of (labeled, i.e. without middle center) stickers on each face\n",
    "    b = a//4 # number of 4-clusters on each face\n",
    "    c = (n+1)//2 # side length of 4-cluster\n",
    "    d = (n-1)//2 # side width of 4-cluster\n",
    "\n",
    "right = [a+b, 2*a+b, 4*a, 5*a+b, a+2*b, 2*a+2*b, 4*a+b, 5*a+2*b, 0]\n",
    "front = [3*b, 5*a, 3*a+2*b, 2*a+2*b, 0, 5*a+b, 3*a+3*b, 2*a+3*b, a]\n",
    "up = [0, a, 3*a+b, 4*a+b, b, a+b, 3*a+2*b, 4*a+2*b, 2*a]\n",
    "left = [a+3*b, 5*a+3*b, 4*a+2*b, 2*a+3*b, a, 5*a, 4*a+3*b, 2*a, 3*a]\n",
    "back = [b, 2*a, 3*a, 5*a+2*b, 2*b, 2*a+b, 3*a+b, 5*a+3*b, 4*a]\n",
    "down = [2*b, 4*a+3*b, 3*a+3*b, a+2*b, 3*b, 4*a, 3*a, a+3*b, 5*a]\n",
    "\n",
    "faces = [right, front, up, left, back, down]\n",
    "\n",
    "for face in faces:\n",
    "    for k in range(1, d+1):\n",
    "        P = Permutation()\n",
    "        for i in range(1, c+1):\n",
    "            P*= Permutation(face[0]+(k-1)*c+i, face[1]+(k-1)*c+i, face[2]+(k-1)*c+i, face[3]+(k-1)*c+i)\n",
    "        for j in range(0, d):\n",
    "            P*= Permutation(face[4]+j*c+k, face[5]+j*c+k, face[6]+j*c+k, face[7]+j*c+k)\n",
    "        if k == 1:\n",
    "            for l in range(1, b+1):\n",
    "                P*= Permutation(face[8]+l, face[8]+l+b, face[8]+l+2*b, face[8]+l+3*b)\n",
    "        turns.append(P)\n",
    "group = PermutationGroup(turns)\n",
    "\n",
    "print(\"Dimensions of the cube:\", n, \"x\", n, \"x\", n)\n",
    "print(\"Number of generators:\", len(turns))\n",
    "print(\"Group order:\", group.order())\n",
    "\n"
   ]
  }
 ],
 "metadata": {
  "kernelspec": {
   "display_name": "Python 3",
   "language": "python",
   "name": "python3"
  },
  "language_info": {
   "codemirror_mode": {
    "name": "ipython",
    "version": 3
   },
   "file_extension": ".py",
   "mimetype": "text/x-python",
   "name": "python",
   "nbconvert_exporter": "python",
   "pygments_lexer": "ipython3",
   "version": "3.13.3"
  }
 },
 "nbformat": 4,
 "nbformat_minor": 5
}
