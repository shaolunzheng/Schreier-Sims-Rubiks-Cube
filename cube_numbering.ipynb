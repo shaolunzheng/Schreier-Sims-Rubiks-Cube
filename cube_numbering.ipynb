{
 "cells": [
  {
   "cell_type": "code",
   "execution_count": null,
   "id": "7c2c0c0f",
   "metadata": {},
   "outputs": [
    {
     "name": "stdout",
     "output_type": "stream",
     "text": [
      "[Permutation(1, 5, 9, 13)(2, 6, 10, 14)(3, 7, 11, 15)(4, 8, 12, 16)(21, 37, 65, 85)(22, 38, 66, 86)(25, 41, 69, 89)(27, 43, 71, 91), Permutation(23, 39, 67, 87)(24, 40, 68, 88)(26, 42, 70, 90)(28, 44, 72, 92), Permutation(1, 85, 61, 45)(3, 87, 63, 47)(13, 81, 57, 41)(14, 82, 58, 42)(17, 21, 25, 29)(18, 22, 26, 30)(19, 23, 27, 31)(20, 24, 28, 32), Permutation(2, 86, 62, 46)(4, 88, 64, 48)(15, 83, 59, 43)(16, 84, 60, 44), Permutation(1, 17, 53, 69)(2, 18, 54, 70)(5, 21, 57, 73)(7, 23, 59, 75)(33, 37, 41, 45)(34, 38, 42, 46)(35, 39, 43, 47)(36, 40, 44, 48), Permutation(3, 19, 55, 71)(4, 20, 56, 72)(6, 22, 58, 74)(8, 24, 60, 76), Permutation(17, 81, 77, 33)(19, 83, 79, 35)(29, 93, 73, 45)(30, 94, 74, 46)(49, 53, 57, 61)(50, 54, 58, 62)(51, 55, 59, 63)(52, 56, 60, 64), Permutation(18, 82, 78, 34)(20, 84, 80, 36)(31, 95, 75, 47)(32, 96, 76, 48), Permutation(5, 33, 49, 89)(6, 34, 50, 90)(9, 37, 53, 93)(11, 39, 55, 95)(65, 69, 73, 77)(66, 70, 74, 78)(67, 71, 75, 79)(68, 72, 76, 80), Permutation(7, 35, 51, 91)(8, 36, 52, 92)(10, 38, 54, 94)(12, 40, 56, 96), Permutation(9, 77, 61, 25)(10, 78, 62, 26)(13, 65, 49, 29)(15, 67, 51, 31)(81, 85, 89, 93)(82, 86, 90, 94)(83, 87, 91, 95)(84, 88, 92, 96), Permutation(11, 79, 63, 27)(12, 80, 64, 28)(14, 66, 50, 30)(16, 68, 52, 32)]\n",
      "12\n",
      "16972688908618238933770849245964147960401887232000000000\n"
     ]
    }
   ],
   "source": [
    "from sympy.combinatorics import Permutation, PermutationGroup\n",
    "\n",
    "n = 4\n",
    "\n",
    "turns = []\n",
    "\n",
    "if n % 2 == 0:\n",
    "    a = n**2 # number of stickers on each face\n",
    "    b = a//4 # number of 4-clusters on each face\n",
    "    c = n//2 # side length of 4-cluster\n",
    "    d = n//2 # side width of 4-cluster\n",
    "else:\n",
    "    a = n**2-1 # number of (labeled, i.e. without middle center) stickers on each face\n",
    "    b = a//4 # number of 4-clusters on each face\n",
    "    c = (n+1)//2 # side length of 4-cluster\n",
    "    d = (n-1)//2 # side width of 4-cluster\n",
    "\n",
    "right = [a+b, 2*a+b, 4*a, 5*a+b, a+2*b, 2*a+2*b, 4*a+b, 5*a+2*b, 0]\n",
    "front = [3*b, 5*a, 3*a+2*b, 2*a+2*b, 0, 5*a+b, 3*a+3*b, 2*a+3*b, a]\n",
    "up = [0, a, 3*a+b, 4*a+b, b, a+b, 3*a+2*b, 4*a+2*b, 2*a]\n",
    "left = [a+3*b, 5*a+3*b, 4*a+2*b, 2*a+3*b, a, 5*a, 4*a+3*b, 2*a, 3*a]\n",
    "back = [b, 2*a, 3*a, 5*a+2*b, 2*b, 2*a+b, 3*a+b, 5*a+3*b, 4*a]\n",
    "down = [2*b, 4*a+3*b, 3*a+3*b, a+2*b, 3*b, 4*a, 3*a, a+3*b, 5*a]\n",
    "\n",
    "faces = [right, front, up, left, back, down]\n",
    "\n",
    "for face in faces:\n",
    "    for k in range(1, d+1):\n",
    "        P = Permutation()\n",
    "        for i in range(1, c+1):\n",
    "            P*= Permutation(face[0]+(k-1)*c+i, face[1]+(k-1)*c+i, face[2]+(k-1)*c+i, face[3]+(k-1)*c+i)\n",
    "        for j in range(0, d):\n",
    "            P*= Permutation(face[4]+j*c+k, face[5]+j*c+k, face[6]+j*c+k, face[7]+j*c+k)\n",
    "        if k == 1:\n",
    "            for l in range(1, b+1):\n",
    "                P*= Permutation(face[8]+l, face[8]+l+b, face[8]+l+2*b, face[8]+l+3*b)\n",
    "        turns.append(P)\n",
    "group = PermutationGroup(turns)\n",
    "\n",
    "print(turns)\n",
    "print(len(turns))\n",
    "print(group.order())\n",
    "\n"
   ]
  }
 ],
 "metadata": {
  "kernelspec": {
   "display_name": "Python 3",
   "language": "python",
   "name": "python3"
  },
  "language_info": {
   "codemirror_mode": {
    "name": "ipython",
    "version": 3
   },
   "file_extension": ".py",
   "mimetype": "text/x-python",
   "name": "python",
   "nbconvert_exporter": "python",
   "pygments_lexer": "ipython3",
   "version": "3.13.3"
  }
 },
 "nbformat": 4,
 "nbformat_minor": 5
}
