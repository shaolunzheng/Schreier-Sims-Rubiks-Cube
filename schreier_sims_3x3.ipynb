{
 "cells": [
  {
   "cell_type": "code",
   "execution_count": 20,
   "id": "211f0f13",
   "metadata": {},
   "outputs": [],
   "source": [
    "import numpy as np, time\n",
    "from functions import compose, inverse, compute_schreiers_vector, generating_set, sims_filter"
   ]
  },
  {
   "cell_type": "code",
   "execution_count": 21,
   "id": "ecb38518",
   "metadata": {},
   "outputs": [],
   "source": [
    "turns = {\n",
    "    \"E\": np.array(list(range(48))),\n",
    "    \"R\": np.array([28,3,4,5,6,7,8,1,2,9,10,11,12,13,14,15,16,17,18,47,0,41,22,23,24,\n",
    "            25,26,35,36,37,30,31,32,33,34,19,20,21,38,39,40,29,42,43,44,45,46,27]),\n",
    "    \"L\": np.array([0,1,2,3,4,5,6,7,8,11,12,13,14,15,16,9,10,33,18,19,20,21,22,39,40,\n",
    "            45,26,27,28,29,30,43,44,25,34,35,36,37,38,31,32,41,42,23,24,17,46,47]),\n",
    "    \"U\": np.array([0,33,34,35,4,5,6,7,8,41,42,43,12,13,14,15,16,19,20,21,22,23,24,17,18,\n",
    "            25,26,27,28,29,30,31,32,9,10,11,36,37,38,39,40,1,2,3,44,45,46,47]),\n",
    "    \"D\": np.array([0,1,2,3,4,45,46,47,8,9,10,11,12,37,38,39,16,17,18,19,20,21,22,23,24,\n",
    "            27,28,29,30,31,32,25,26,33,34,35,36,5,6,7,40,41,42,43,44,13,14,15]),\n",
    "    \"F\": np.array([0,27,2,3,4,5,6,25,26,9,10,21,22,23,14,15,16,17,18,19,20,7,8,1,24,\n",
    "            11,12,13,28,29,30,31,32,35,36,37,38,39,40,33,34,41,42,43,44,45,46,47]),\n",
    "    \"B\": np.array([42,1,2,17,18,19,6,7,8,31,10,11,12,13,14,29,30,15,16,9,20,21,22,23,24,\n",
    "            25,26,27,28,3,4,5,32,33,34,35,36,37,38,39,40,43,44,45,46,47,0,41])\n",
    "}\n",
    "\n",
    "n = 48\n",
    "\n",
    "# different generating sets to choose from\n",
    "rubiks = [turns[\"R\"], turns[\"L\"], turns[\"U\"], turns[\"D\"], turns[\"F\"], turns[\"B\"]]\n",
    "ru = [compose([turns[\"R\"], turns[\"U\"]], n)]\n",
    "rup = [compose([turns[\"R\"], inverse(turns[\"U\"], n)], n)]\n",
    "h = [compose([turns[\"R\"], turns[\"R\"]], n), compose([turns[\"L\"], turns[\"L\"]], n), turns[\"U\"], turns[\"D\"], \n",
    "     compose([turns[\"F\"], turns[\"F\"]], n), compose([turns[\"B\"], turns[\"B\"]], n)]\n",
    "highest_order_element = [compose([turns[\"R\"], turns[\"U\"], turns[\"U\"], inverse(turns[\"D\"], n), turns[\"B\"], inverse(turns[\"D\"], n)], n)]\n",
    "circle = [compose([turns[\"R\"], turns[\"U\"], turns[\"L\"], turns[\"D\"]], n)]\n",
    "\n",
    "# generating set\n",
    "generators = rubiks\n",
    "\n",
    "# order in which elements should be stabilized\n",
    "solving_order = np.array([26,28,30,32,25,27,29,31,4,8,12,16,17,19,21,18,20,22,\n",
    "                   1,2,3,5,6,7,9,10,11,13,14,15,23,24,33,34,35,36,37,38,39,40,41,42,43,44,45,46,47,0])\n",
    "\n",
    "# list of group orders of the stabilizer groups\n",
    "orders_list = []\n",
    "\n",
    "# list of generating sets of the stabilizer groups\n",
    "generators_list = []\n",
    "\n",
    "# list of Schreiers vectors for the stabilizer groups\n",
    "schreiers_vectors_list = []"
   ]
  },
  {
   "cell_type": "code",
   "execution_count": null,
   "id": "5506dce8",
   "metadata": {},
   "outputs": [
    {
     "name": "stdout",
     "output_type": "stream",
     "text": [
      "Time for iteration 1: 0.04 seconds\n",
      "Time for iteration 2: 1.05 seconds\n",
      "Time for iteration 3: 2.87 seconds\n",
      "Time for iteration 4: 4.30 seconds\n",
      "Time for iteration 5: 5.85 seconds\n",
      "Time for iteration 6: 7.29 seconds\n",
      "Time for iteration 7: 8.09 seconds\n",
      "Time for iteration 8: 8.59 seconds\n",
      "Time for iteration 9: 8.99 seconds\n",
      "Time for iteration 10: 9.32 seconds\n",
      "Time for iteration 11: 9.50 seconds\n",
      "Time for iteration 12: 9.61 seconds\n",
      "Time for iteration 13: 9.70 seconds\n",
      "Time for iteration 14: 9.74 seconds\n",
      "Time for iteration 15: 9.76 seconds\n",
      "Time for iteration 16: 9.78 seconds\n",
      "Time for iteration 17: 9.80 seconds\n",
      "Time for iteration 18: 9.82 seconds\n",
      "1\n"
     ]
    }
   ],
   "source": [
    "i = 0\n",
    "\n",
    "temp_generators = generators\n",
    "\n",
    "start_time = time.time()\n",
    "\n",
    "while(len(temp_generators) > 0):\n",
    "    k = solving_order[i]\n",
    "\n",
    "    generators_list.append(temp_generators)\n",
    "\n",
    "    schreiers_vector = compute_schreiers_vector(temp_generators, n, k)\n",
    "    schreiers_vectors_list.append(schreiers_vector)\n",
    "\n",
    "    schreiers_vector_non_zero = [element for element in schreiers_vector if np.any(element != 0)]\n",
    "\n",
    "    order_orbit = len(schreiers_vector_non_zero)\n",
    "    orders_list.append(order_orbit)\n",
    "\n",
    "    new_generators = generating_set(temp_generators, schreiers_vector, schreiers_vector_non_zero, n, k)\n",
    "    temp_generators = sims_filter(new_generators, n)\n",
    "\n",
    "    i += 1\n",
    "\n",
    "    elapsed_time = time.time()-start_time\n",
    "    print(f\"Time for iteration {i}: {elapsed_time:.2f} seconds\")\n",
    "\n",
    "\n",
    "# order of 3x3 rubiks cube group\n",
    "orders_list = np.array(orders_list, dtype=object)\n",
    "print(np.prod(orders_list))"
   ]
  }
 ],
 "metadata": {
  "kernelspec": {
   "display_name": ".venv",
   "language": "python",
   "name": "python3"
  },
  "language_info": {
   "codemirror_mode": {
    "name": "ipython",
    "version": 3
   },
   "file_extension": ".py",
   "mimetype": "text/x-python",
   "name": "python",
   "nbconvert_exporter": "python",
   "pygments_lexer": "ipython3",
   "version": "3.13.3"
  }
 },
 "nbformat": 4,
 "nbformat_minor": 5
}
